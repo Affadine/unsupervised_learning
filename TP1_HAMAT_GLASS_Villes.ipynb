{
 "cells": [
  {
   "cell_type": "code",
   "execution_count": 1,
   "metadata": {},
   "outputs": [],
   "source": [
    "import numpy as np\n",
    "np.set_printoptions(threshold=10000,suppress=True)\n",
    "import pandas as pd\n",
    "import warnings\n",
    "import matplotlib.pyplot as plt\n",
    "warnings.filterwarnings('ignore')\n",
    "\n"
   ]
  },
  {
   "cell_type": "code",
   "execution_count": 2,
   "metadata": {},
   "outputs": [
    {
     "name": "stdout",
     "output_type": "stream",
     "text": [
      "labels ['ajac' 'ange' 'ango' 'besa' 'biar' 'bord' 'bres' 'cler' 'dijo' 'embr'\n",
      " 'gren' 'lill' 'limo' 'lyon' 'mars' 'mont' 'nanc' 'nant' 'nice' 'nime'\n",
      " 'orle' 'pari' 'perp' 'reim' 'renn' 'roue' 'stqu' 'stra' 'toul' 'tlse'\n",
      " 'tour' 'vich']\n",
      "pca PCA(n_components=12)\n",
      "explained_variance_ [10.80999558  1.45184229  0.0581652   0.03279996  0.01406283  0.00621041\n",
      "  0.00523837  0.00406512  0.00187861  0.00145726  0.0010361   0.00034505]\n",
      "explained_variance_ratio_ [0.87268193 0.11720602 0.00469563 0.00264791 0.00113528 0.00050136\n",
      " 0.00042289 0.00032817 0.00015166 0.00011764 0.00008364 0.00002786]\n",
      "0.8726819348921445 0.8726819348921445\n",
      "0.11720601803471138 0.9898879529268559\n",
      "ok 0.9898879529268559\n",
      "nbVar 2\n"
     ]
    }
   ],
   "source": [
    "\n",
    "data = pd.read_csv('./villes.csv', sep=';')\n",
    "\n",
    "\n",
    "#print(data);\n",
    "#data.head();\n",
    "\n",
    "X = data.iloc[:, 1:].values\n",
    "labels = data.iloc[:, 0].values\n",
    "print(\"labels\", labels)\n",
    "\n",
    "from sklearn.preprocessing import StandardScaler\n",
    "from sklearn.decomposition import PCA\n",
    "\n",
    "SC = StandardScaler()\n",
    "SC.fit(X)\n",
    "Xnorm = SC.transform(X)\n",
    "\n",
    "pca=PCA(n_components = 12)\n",
    "print(\"pca\",pca)\n",
    "pca.fit(Xnorm)\n",
    "\n",
    "print(\"explained_variance_\", pca.explained_variance_)\n",
    "\n",
    "# On demande un ratio de 90% de l'information\n",
    "requestedRatio = 0.9\n",
    "sumRatio = 0\n",
    "nbVar = 0\n",
    "print(\"explained_variance_ratio_\", pca.explained_variance_ratio_)\n",
    "for nextRatio in pca.explained_variance_ratio_ :\n",
    "    sumRatio = sumRatio + nextRatio\n",
    "    print(nextRatio, sumRatio )\n",
    "    nbVar = nbVar+1\n",
    "    if(sumRatio>=requestedRatio): \n",
    "        print(\"ok\",sumRatio )\n",
    "        break\n",
    "\n",
    "# Ici on prend les deux premières variables pour avoir 90% de l'information\n",
    "print(\"nbVar\", nbVar)\n"
   ]
  },
  {
   "cell_type": "code",
   "execution_count": 3,
   "metadata": {
    "scrolled": true
   },
   "outputs": [
    {
     "data": {
      "image/png": "[encoded data removed]",
      "text/plain": [
       "<Figure size 432x288 with 1 Axes>"
      ]
     },
     "metadata": {
      "needs_background": "light"
     },
     "output_type": "display_data"
    }
   ],
   "source": [
    "X_pca = pca.transform(Xnorm)\n",
    "\n",
    "#print(\"X_pca\", X_pca, X_pca[:,0], X_pca[:,1],)\n",
    "\n",
    "plt.scatter(X_pca[:,0], X_pca[:,1])\n",
    "for label, x, y in zip(labels, X_pca[:, 0], X_pca[:, 1]):\n",
    "    plt.annotate(label, xy=(x, y), xytext=(-0.2, 0.2), textcoords='offset points')\n",
    "#for label, x, y in zip(labels, X_)\n",
    "\n"
   ]
  }
 ],
 "metadata": {
  "kernelspec": {
   "display_name": "Python 3",
   "language": "python",
   "name": "python3"
  },
  "language_info": {
   "codemirror_mode": {
    "name": "ipython",
    "version": 3
   },
   "file_extension": ".py",
   "mimetype": "text/x-python",
   "name": "python",
   "nbconvert_exporter": "python",
   "pygments_lexer": "ipython3",
   "version": "3.8.5"
  }
 },
 "nbformat": 4,
 "nbformat_minor": 4
}
