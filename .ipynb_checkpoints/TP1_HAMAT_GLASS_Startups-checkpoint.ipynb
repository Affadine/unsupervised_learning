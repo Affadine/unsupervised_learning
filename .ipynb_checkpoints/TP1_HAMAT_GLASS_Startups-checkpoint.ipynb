{
 "cells": [
  {
   "cell_type": "code",
   "execution_count": 1,
   "metadata": {},
   "outputs": [],
   "source": [
    "import numpy as np\n",
    "np.set_printoptions(threshold=10000,suppress=True)\n",
    "import pandas as pd\n",
    "import warnings\n",
    "import matplotlib.pyplot as plt\n",
    "warnings.filterwarnings('ignore')\n",
    "\n"
   ]
  },
  {
   "cell_type": "code",
   "execution_count": 2,
   "metadata": {},
   "outputs": [
    {
     "name": "stdout",
     "output_type": "stream",
     "text": [
      "labels [ 1  2  3  4  5  6  7  8  9 10 11 12 13 14 15 16 17 18 19 20 21 22 23 24\n",
      " 25 26 27 28 29 30 31 32 33 34 35 36 37 38 39 40 41 42 43 44 45 46 47 48\n",
      " 49 50]\n",
      "explained_variance_ [2.7267099  1.04019163 0.28830861 0.02642251]\n",
      "explained_variance_ratio_ [0.66804393 0.25484695 0.07063561 0.00647351]\n",
      "0.6680439261196343 0.6680439261196343\n",
      "0.25484694853105977 0.9228908746506941\n",
      "ok 0.9228908746506941\n",
      "nbVar 2\n"
     ]
    }
   ],
   "source": [
    "\n",
    "data = pd.read_csv('./50_startups.csv', sep=';')\n",
    "\n",
    "\n",
    "#print(data);\n",
    "#data.head();\n",
    "\n",
    "X = data.iloc[:, 1:].values\n",
    "labels = data.iloc[:, 0].values\n",
    "print(\"labels\", labels)\n",
    "\n",
    "\n",
    "from sklearn.preprocessing import StandardScaler\n",
    "from sklearn.decomposition import PCA\n",
    "\n",
    "SC = StandardScaler()\n",
    "SC.fit(X)\n",
    "Xnorm = SC.transform(X)\n",
    "# print(X, Xnorm)\n",
    "\"\"\"\n",
    "y1  = a1*janv + b1*fev + .... + l1 * dec\n",
    "y2  = a2*janv + b2/fev + ....\n",
    "...\n",
    "y12 = a12*janv + b12*dev+ ....\n",
    "\n",
    "importance(y1) = alpha1/sum(alapha)\n",
    "\"\"\"\n",
    "\n",
    "pca=PCA(n_components = 4)\n",
    "#print(\"pca\",pca)\n",
    "pca.fit(Xnorm)\n",
    "\n",
    "print(\"explained_variance_\", pca.explained_variance_)\n",
    "\n",
    "# On demande un ratio de 90% de l'information\n",
    "requestedRatio = 0.9\n",
    "sumRatio = 0\n",
    "nbVar = 0\n",
    "print(\"explained_variance_ratio_\", pca.explained_variance_ratio_)\n",
    "for nextRatio in pca.explained_variance_ratio_ :\n",
    "    sumRatio = sumRatio + nextRatio\n",
    "    print(nextRatio, sumRatio )\n",
    "    nbVar = nbVar+1\n",
    "    if(sumRatio>=requestedRatio): \n",
    "        print(\"ok\",sumRatio )\n",
    "        break\n",
    "\n",
    "print(\"nbVar\", nbVar)\n"
   ]
  },
  {
   "cell_type": "code",
   "execution_count": 3,
   "metadata": {
    "scrolled": true
   },
   "outputs": [
    {
     "name": "stdout",
     "output_type": "stream",
     "text": [
      "X_pca [[ 3.59907884  0.06143503  0.3275448   0.01845081]\n",
      " [ 3.5131408  -0.50334595  0.31474663 -0.03517885]\n",
      " [ 2.96089965  1.1346433  -0.32803913 -0.12460696]\n",
      " [ 2.70753018  0.47788583 -0.16432273 -0.14010092]\n",
      " [ 2.21016916  1.36881155 -0.37037983  0.14546238]\n",
      " [ 1.96975996  1.07940343 -0.13537945  0.14414273]\n",
      " [ 1.23305257 -1.14520803 -1.23185244  0.10456305]\n",
      " [ 2.00589832 -0.58521441  0.08235952  0.09096667]\n",
      " [ 1.78981683 -0.71756422  0.15085671 -0.00147905]\n",
      " [ 1.54839968  0.63484284 -0.28763549  0.12078736]\n",
      " [ 0.898392    0.39484327 -0.54667751 -0.16268534]\n",
      " [ 0.8429801   1.09240842 -0.56798052 -0.12641134]\n",
      " [ 0.90333375 -0.11930524 -0.13445705 -0.21605404]\n",
      " [ 0.82580257 -0.39174786  0.04775081 -0.12149008]\n",
      " [ 1.2938108  -1.1285877   0.05134742  0.32046229]\n",
      " [ 1.02526869  0.05199711 -0.17510777  0.31765262]\n",
      " [ 0.51039797  0.12552743  0.17754353 -0.19016359]\n",
      " [ 0.90670565 -0.64784045  0.39748652  0.07741092]\n",
      " [ 0.74114236  0.44497758  0.21081564  0.08374354]\n",
      " [-0.41004248 -1.64887931 -1.28141011 -0.0750184 ]\n",
      " [ 0.46673318  0.4779625   0.42107491 -0.04982638]\n",
      " [ 0.60435445 -0.88991853  0.86721846  0.07460879]\n",
      " [ 0.38334175  0.18499978  0.63373833  0.05360003]\n",
      " [ 0.19051476  0.77786034  0.54739104 -0.0008066 ]\n",
      " [-0.42850258  0.57337555 -0.6768643   0.11735856]\n",
      " [-0.40456565 -0.80252887 -0.17998729 -0.09029314]\n",
      " [-0.2827111  -0.97929904 -0.23845167  0.0985447 ]\n",
      " [ 0.52035519  0.13853399  1.0771207   0.12687194]\n",
      " [-0.30424344 -2.33158974  0.13868001 -0.03946001]\n",
      " [-0.54878438 -1.34471396 -0.1995548   0.01925597]\n",
      " [-0.87940008 -0.10101424 -0.63050749  0.01365357]\n",
      " [-0.74285414 -1.37810812 -0.2557124   0.00951478]\n",
      " [-1.01998287 -0.68259159 -0.78255221  0.05754368]\n",
      " [-0.54718013  0.64970389  0.14367904  0.00990736]\n",
      " [-0.39278472 -1.22436703  0.73465076 -0.17968989]\n",
      " [-0.81037123  1.25210823 -0.00752774 -0.11603174]\n",
      " [-0.91881784 -0.18414981  0.5807056  -0.3194183 ]\n",
      " [-1.14918914  2.38830653 -0.31768658  0.00014827]\n",
      " [-1.5634366   1.87567694  0.03745813 -0.2267605 ]\n",
      " [-1.2810246   1.24944136 -0.02079339  0.04115196]\n",
      " [-1.27087651  0.03336314  0.42496584 -0.09348925]\n",
      " [-1.5043031   1.17240935  0.04964307 -0.06952612]\n",
      " [-1.66375045  0.73992399  0.14923359 -0.03652634]\n",
      " [-2.11391491 -0.60817727 -0.19678348 -0.18493124]\n",
      " [-1.9800896  -1.57296632  0.00885061 -0.02764822]\n",
      " [-2.53732112 -0.57090761 -0.27837591 -0.32626876]\n",
      " [-1.53837637  0.46306175  1.7198034   0.02971846]\n",
      " [-2.83264623 -0.96475616  0.03453256  0.04778117]\n",
      " [-3.37305584  1.90149248 -0.7283505   0.25656609]\n",
      " [-3.15265413 -0.22221413  0.40719213  0.57399736]] [ 3.59907884  3.5131408   2.96089965  2.70753018  2.21016916  1.96975996\n",
      "  1.23305257  2.00589832  1.78981683  1.54839968  0.898392    0.8429801\n",
      "  0.90333375  0.82580257  1.2938108   1.02526869  0.51039797  0.90670565\n",
      "  0.74114236 -0.41004248  0.46673318  0.60435445  0.38334175  0.19051476\n",
      " -0.42850258 -0.40456565 -0.2827111   0.52035519 -0.30424344 -0.54878438\n",
      " -0.87940008 -0.74285414 -1.01998287 -0.54718013 -0.39278472 -0.81037123\n",
      " -0.91881784 -1.14918914 -1.5634366  -1.2810246  -1.27087651 -1.5043031\n",
      " -1.66375045 -2.11391491 -1.9800896  -2.53732112 -1.53837637 -2.83264623\n",
      " -3.37305584 -3.15265413] [ 0.06143503 -0.50334595  1.1346433   0.47788583  1.36881155  1.07940343\n",
      " -1.14520803 -0.58521441 -0.71756422  0.63484284  0.39484327  1.09240842\n",
      " -0.11930524 -0.39174786 -1.1285877   0.05199711  0.12552743 -0.64784045\n",
      "  0.44497758 -1.64887931  0.4779625  -0.88991853  0.18499978  0.77786034\n",
      "  0.57337555 -0.80252887 -0.97929904  0.13853399 -2.33158974 -1.34471396\n",
      " -0.10101424 -1.37810812 -0.68259159  0.64970389 -1.22436703  1.25210823\n",
      " -0.18414981  2.38830653  1.87567694  1.24944136  0.03336314  1.17240935\n",
      "  0.73992399 -0.60817727 -1.57296632 -0.57090761  0.46306175 -0.96475616\n",
      "  1.90149248 -0.22221413]\n"
     ]
    },
    {
     "data": {
      "image/png": "[encoded data removed]",
      "text/plain": [
       "<Figure size 432x288 with 1 Axes>"
      ]
     },
     "metadata": {
      "needs_background": "light"
     },
     "output_type": "display_data"
    }
   ],
   "source": [
    "X_pca = pca.transform(Xnorm)\n",
    "\n",
    "#print(\"X_pca\", X_pca, X_pca[:,0], X_pca[:,1],)\n",
    "\n",
    "plt.scatter(X_pca[:,0], X_pca[:,1])\n",
    "for label, x, y in zip(labels, X_pca[:, 0], X_pca[:, 1]):\n",
    "    plt.annotate(label, xy=(x, y), xytext=(-0.2, 0.2), textcoords='offset points')\n",
    "#for label, x, y in zip(labels, X_)\n"
   ]
  }
 ],
 "metadata": {
  "kernelspec": {
   "display_name": "Python 3",
   "language": "python",
   "name": "python3"
  },
  "language_info": {
   "codemirror_mode": {
    "name": "ipython",
    "version": 3
   },
   "file_extension": ".py",
   "mimetype": "text/x-python",
   "name": "python",
   "nbconvert_exporter": "python",
   "pygments_lexer": "ipython3",
   "version": "3.8.5"
  }
 },
 "nbformat": 4,
 "nbformat_minor": 4
}
