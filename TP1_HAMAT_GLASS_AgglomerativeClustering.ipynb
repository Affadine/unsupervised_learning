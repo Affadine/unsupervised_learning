{
 "cells": [
  {
   "cell_type": "code",
   "execution_count": 1,
   "metadata": {},
   "outputs": [],
   "source": [
    "import numpy as np\n",
    "np.set_printoptions(threshold=10000,suppress=True)\n",
    "import pandas as pd\n",
    "import warnings\n",
    "import matplotlib.pyplot as plt\n",
    "warnings.filterwarnings('ignore')\n",
    "\n"
   ]
  },
  {
   "cell_type": "code",
   "execution_count": 2,
   "metadata": {},
   "outputs": [
    {
     "name": "stdout",
     "output_type": "stream",
     "text": [
      "labels ['ajac' 'ange' 'ango' 'besa' 'biar' 'bord' 'bres' 'cler' 'dijo' 'embr'\n",
      " 'gren' 'lill' 'limo' 'lyon' 'mars' 'mont' 'nanc' 'nant' 'nice' 'nime'\n",
      " 'orle' 'pari' 'perp' 'reim' 'renn' 'roue' 'stqu' 'stra' 'toul' 'tlse'\n",
      " 'tour' 'vich']\n"
     ]
    }
   ],
   "source": [
    "data = pd.read_csv('./villes.csv', sep=';')\n",
    "X = data.iloc[:, 1:].values\n",
    "labels = data.iloc[:, 0].values\n",
    "print(\"labels\", labels)\n",
    "\n",
    "from sklearn.preprocessing import StandardScaler\n",
    "from sklearn.decomposition import PCA\n",
    "\n",
    "SC = StandardScaler()\n",
    "SC.fit(X)\n",
    "Xnorm = SC.transform(X)\n",
    "\n",
    "\n",
    "pca=PCA(n_components =12)\n",
    "#print(\"pca\",pca)\n",
    "pca.fit(Xnorm)\n",
    "\n",
    "X_pca = pca.transform(Xnorm)\n",
    "\n",
    "\n",
    "\n"
   ]
  },
  {
   "cell_type": "code",
   "execution_count": 3,
   "metadata": {
    "scrolled": true
   },
   "outputs": [
    {
     "name": "stdout",
     "output_type": "stream",
     "text": [
      "[[ 2.71818182  3.55909091  7.08636364  9.98181818 13.54090909 16.75909091\n",
      "  18.63181818 18.28636364 15.68181818 10.99090909  6.63181818  3.55      ]\n",
      " [ 6.6         7.5        10.41       12.84       16.13       19.87\n",
      "  22.22       22.02       19.59       15.08       10.6         7.5       ]] [2.71818182 6.6       ]\n"
     ]
    },
    {
     "data": {
      "image/png": "[encoded data removed]",
      "text/plain": [
       "<Figure size 432x288 with 1 Axes>"
      ]
     },
     "metadata": {
      "needs_background": "light"
     },
     "output_type": "display_data"
    }
   ],
   "source": [
    "from sklearn.cluster import KMeans\n",
    "from sklearn.cluster import AgglomerativeClustering\n",
    "import matplotlib.colors as mcolors\n",
    "from sklearn.neighbors.nearest_centroid import NearestCentroid\n",
    "\n",
    "clustering = AgglomerativeClustering().fit(X_pca)\n",
    "y_predict = clustering.fit_predict(X_pca)\n",
    "n_clusters = 3\n",
    "colors = ['red','yellow','blue','pink']\n",
    "\n",
    "\n",
    "plt.scatter(X_pca[:, 0], X_pca[:, 1], c=y_predict, cmap= mcolors.ListedColormap(colors))\n",
    "\n",
    "\n",
    "clf = NearestCentroid()\n",
    "clf.fit(X, y_predict)\n",
    "centers = clf.centroids_\n",
    "print(centers, centers[:, 0])\n",
    "\n",
    "plt.scatter(centers[:, 0], centers[:, 1], cmap= mcolors.ListedColormap(colors),  s=200 );\n",
    "\n",
    "\n",
    "for label, x, y in zip(labels, X_pca[:, 0], X_pca[:, 1]):\n",
    "    plt.annotate(label, xy=(x, y), xytext=(-0.2, 0.2), textcoords='offset points')\n",
    "plt.show()\n",
    "\n",
    "\n",
    "\n"
   ]
  },
  {
   "cell_type": "code",
   "execution_count": null,
   "metadata": {},
   "outputs": [],
   "source": [
    "\n"
   ]
  },
  {
   "cell_type": "code",
   "execution_count": 4,
   "metadata": {},
   "outputs": [],
   "source": [
    "#clustering = AgglomerativeClustering().fit(X)\n",
    "#ward.fit(X)"
   ]
  }
 ],
 "metadata": {
  "kernelspec": {
   "display_name": "Python 3",
   "language": "python",
   "name": "python3"
  },
  "language_info": {
   "codemirror_mode": {
    "name": "ipython",
    "version": 3
   },
   "file_extension": ".py",
   "mimetype": "text/x-python",
   "name": "python",
   "nbconvert_exporter": "python",
   "pygments_lexer": "ipython3",
   "version": "3.8.5"
  }
 },
 "nbformat": 4,
 "nbformat_minor": 4
}
