{
 "cells": [
  {
   "cell_type": "markdown",
   "metadata": {},
   "source": [
    "#  Binome : HAMAT - GLASS\n"
   ]
  },
  {
   "cell_type": "markdown",
   "metadata": {},
   "source": [
    "# Réduction de dimensions et Visualisation des données : crimes aux US\n"
   ]
  },
  {
   "cell_type": "code",
   "execution_count": 1,
   "metadata": {},
   "outputs": [],
   "source": [
    "import numpy as np\n",
    "np.set_printoptions(threshold=10000,suppress=True)\n",
    "import pandas as pd\n",
    "import warnings\n",
    "import matplotlib.pyplot as plt\n",
    "warnings.filterwarnings('ignore')\n"
   ]
  },
  {
   "cell_type": "code",
   "execution_count": 2,
   "metadata": {},
   "outputs": [
    {
     "data": {
      "text/html": [
       "<div>\n",
       "<style scoped>\n",
       "    .dataframe tbody tr th:only-of-type {\n",
       "        vertical-align: middle;\n",
       "    }\n",
       "\n",
       "    .dataframe tbody tr th {\n",
       "        vertical-align: top;\n",
       "    }\n",
       "\n",
       "    .dataframe thead th {\n",
       "        text-align: right;\n",
       "    }\n",
       "</style>\n",
       "<table border=\"1\" class=\"dataframe\">\n",
       "  <thead>\n",
       "    <tr style=\"text-align: right;\">\n",
       "      <th></th>\n",
       "      <th>Etat</th>\n",
       "      <th>Meutre</th>\n",
       "      <th>Rapt</th>\n",
       "      <th>Vol</th>\n",
       "      <th>Attaque</th>\n",
       "      <th>Viol</th>\n",
       "      <th>Larcin</th>\n",
       "      <th>Auto_Theft</th>\n",
       "    </tr>\n",
       "  </thead>\n",
       "  <tbody>\n",
       "    <tr>\n",
       "      <th>0</th>\n",
       "      <td>Alabama</td>\n",
       "      <td>14.2</td>\n",
       "      <td>25.2</td>\n",
       "      <td>96.8</td>\n",
       "      <td>278.3</td>\n",
       "      <td>1135.5</td>\n",
       "      <td>1881.9</td>\n",
       "      <td>280.7</td>\n",
       "    </tr>\n",
       "    <tr>\n",
       "      <th>1</th>\n",
       "      <td>Alaska</td>\n",
       "      <td>10.8</td>\n",
       "      <td>51.6</td>\n",
       "      <td>96.8</td>\n",
       "      <td>284.0</td>\n",
       "      <td>1331.7</td>\n",
       "      <td>3369.8</td>\n",
       "      <td>753.3</td>\n",
       "    </tr>\n",
       "    <tr>\n",
       "      <th>2</th>\n",
       "      <td>Arizona</td>\n",
       "      <td>9.5</td>\n",
       "      <td>34.2</td>\n",
       "      <td>138.2</td>\n",
       "      <td>312.3</td>\n",
       "      <td>2346.1</td>\n",
       "      <td>4467.4</td>\n",
       "      <td>439.5</td>\n",
       "    </tr>\n",
       "    <tr>\n",
       "      <th>3</th>\n",
       "      <td>Arkansas</td>\n",
       "      <td>8.8</td>\n",
       "      <td>27.6</td>\n",
       "      <td>83.2</td>\n",
       "      <td>203.4</td>\n",
       "      <td>972.6</td>\n",
       "      <td>1862.1</td>\n",
       "      <td>183.4</td>\n",
       "    </tr>\n",
       "    <tr>\n",
       "      <th>4</th>\n",
       "      <td>California</td>\n",
       "      <td>11.5</td>\n",
       "      <td>49.4</td>\n",
       "      <td>287.0</td>\n",
       "      <td>358.0</td>\n",
       "      <td>2139.4</td>\n",
       "      <td>3499.8</td>\n",
       "      <td>663.5</td>\n",
       "    </tr>\n",
       "  </tbody>\n",
       "</table>\n",
       "</div>"
      ],
      "text/plain": [
       "        Etat   Meutre  Rapt    Vol  Attaque    Viol  Larcin  Auto_Theft\n",
       "0     Alabama    14.2  25.2   96.8    278.3  1135.5  1881.9       280.7\n",
       "1      Alaska    10.8  51.6   96.8    284.0  1331.7  3369.8       753.3\n",
       "2     Arizona     9.5  34.2  138.2    312.3  2346.1  4467.4       439.5\n",
       "3    Arkansas     8.8  27.6   83.2    203.4   972.6  1862.1       183.4\n",
       "4  California    11.5  49.4  287.0    358.0  2139.4  3499.8       663.5"
      ]
     },
     "execution_count": 2,
     "metadata": {},
     "output_type": "execute_result"
    }
   ],
   "source": [
    "data = pd.read_csv('./crimes.csv', sep=';')\n",
    "data.head()"
   ]
  },
  {
   "cell_type": "code",
   "execution_count": 3,
   "metadata": {},
   "outputs": [],
   "source": [
    "X = data.iloc[:, 1:].values\n",
    "labels = data.iloc[:, 0].values"
   ]
  },
  {
   "cell_type": "code",
   "execution_count": 4,
   "metadata": {},
   "outputs": [],
   "source": [
    "from sklearn.preprocessing import StandardScaler\n",
    "from sklearn.decomposition import PCA"
   ]
  },
  {
   "cell_type": "code",
   "execution_count": 5,
   "metadata": {},
   "outputs": [
    {
     "name": "stdout",
     "output_type": "stream",
     "text": [
      "explained_variance_ [4.19893828 1.26400187 0.74062921 0.32288984 0.26323924 0.22657089\n",
      " 0.12658781]\n"
     ]
    }
   ],
   "source": [
    "SC = StandardScaler()\n",
    "SC.fit(X)\n",
    "Xnorm = SC.transform(X)\n",
    "\n",
    "\n",
    "pca=PCA(n_components = 7)\n",
    "\n",
    "pca.fit(Xnorm)\n",
    "axe1 = pca.components_[0,:]\n",
    "axe2 = pca.components_[1,:]\n",
    "\n",
    "print(\"explained_variance_\", pca.explained_variance_)"
   ]
  },
  {
   "cell_type": "code",
   "execution_count": 6,
   "metadata": {},
   "outputs": [
    {
     "name": "stdout",
     "output_type": "stream",
     "text": [
      "explained_variance_ratio_ [0.58785136 0.17696026 0.10368809 0.04520458 0.03685349 0.03171992\n",
      " 0.01772229]\n",
      "0.5878513585500843 0.5878513585500843\n",
      "0.17696026164078002 0.7648116201908643\n",
      "0.10368808947280954 0.8684997096636738\n",
      "0.04520457795663013 0.913704287620304\n",
      "ok 0.913704287620304\n",
      "nbVar 4\n"
     ]
    }
   ],
   "source": [
    "# On demande un ratio de 90% de l'information\n",
    "requestedRatio = 0.9\n",
    "sumRatio = 0\n",
    "nbVar = 0\n",
    "print(\"explained_variance_ratio_\", pca.explained_variance_ratio_)\n",
    "for nextRatio in pca.explained_variance_ratio_ :\n",
    "    sumRatio = sumRatio + nextRatio\n",
    "    print(nextRatio, sumRatio )\n",
    "    nbVar = nbVar+1\n",
    "    if(sumRatio>=requestedRatio): \n",
    "        print(\"ok\",sumRatio )\n",
    "        break\n",
    "        \n",
    "# Ici on prend les 4 premières variables pour avoir 90% de l'information\n",
    "print(\"nbVar\", nbVar)"
   ]
  },
  {
   "cell_type": "code",
   "execution_count": 7,
   "metadata": {
    "scrolled": true
   },
   "outputs": [
    {
     "data": {
      "image/png": "[encoded data removed]",
      "text/plain": [
       "<Figure size 432x288 with 1 Axes>"
      ]
     },
     "metadata": {
      "needs_background": "light"
     },
     "output_type": "display_data"
    }
   ],
   "source": [
    "X_pca = pca.transform(Xnorm)\n",
    "\n",
    "plt.scatter(X_pca[:,0], X_pca[:,1])\n",
    "for label, x, y in zip(labels, X_pca[:, 0], X_pca[:, 1]):\n",
    "    plt.annotate(label, xy=(x, y), xytext=(-0.2, 0.2), textcoords='offset points')\n"
   ]
  },
  {
   "cell_type": "markdown",
   "metadata": {},
   "source": [
    "# Interprétations"
   ]
  },
  {
   "cell_type": "code",
   "execution_count": 8,
   "metadata": {},
   "outputs": [
    {
     "name": "stdout",
     "output_type": "stream",
     "text": [
      "seuil =  0.3779644730092272\n"
     ]
    }
   ],
   "source": [
    "seuil = 1/np.sqrt(7)\n",
    "print('seuil = ' , seuil)"
   ]
  },
  {
   "cell_type": "code",
   "execution_count": 9,
   "metadata": {},
   "outputs": [
    {
     "name": "stdout",
     "output_type": "stream",
     "text": [
      "premier axe :\n",
      "[0.30027916 0.43175936 0.39687549 0.3966517  0.44015721 0.35735953\n",
      " 0.29517681]\n",
      "deuxième axe :\n",
      "[-0.62917444 -0.16943512  0.04224698 -0.34352815  0.20334059  0.40231912\n",
      "  0.50242093]\n"
     ]
    }
   ],
   "source": [
    "print(\"premier axe :\")\n",
    "print(axe1)\n",
    "print(\"deuxième axe :\")\n",
    "print(axe2)"
   ]
  },
  {
   "cell_type": "markdown",
   "metadata": {},
   "source": [
    "       - _____________axe1_______________+ Meutre, Rapt, Vol, Attaque, Viol, Larcin, Auto_Theft"
   ]
  },
  {
   "cell_type": "markdown",
   "metadata": {},
   "source": [
    "     Meutre, Attaque - _____________axe1_______________+ Larcin, Auto_Theft"
   ]
  },
  {
   "cell_type": "markdown",
   "metadata": {},
   "source": [
    "Le premier axe apporte 58% de l'information. \n",
    "Le 2 ème axe conserve 18 % de la variance du nuage\n",
    "On ne peut pas faire confiance à la répresentation ci-dessus car les 2 premiers axes qui n'apportent que 76 % de l'information.\n",
    "\n",
    "L'axe 1 répresente le délit moyenne par état tandisque l'axe 2 répresente une différence entre les délits graves et les moins graves.\n",
    "\n",
    "Les Etats à droite de l'axe 1 ont un délit moyen fort et ceux à gauche ont un délit moyen faible.\n",
    "\n",
    "Enfin pour l'axe 2,les Etats à gauche sont ceux qui ont des forts délits graves et inversement ceux de droite ont des forts\n",
    "délits faibles."
   ]
  }
 ],
 "metadata": {
  "kernelspec": {
   "display_name": "Python 3",
   "language": "python",
   "name": "python3"
  },
  "language_info": {
   "codemirror_mode": {
    "name": "ipython",
    "version": 3
   },
   "file_extension": ".py",
   "mimetype": "text/x-python",
   "name": "python",
   "nbconvert_exporter": "python",
   "pygments_lexer": "ipython3",
   "version": "3.8.5"
  }
 },
 "nbformat": 4,
 "nbformat_minor": 4
}
