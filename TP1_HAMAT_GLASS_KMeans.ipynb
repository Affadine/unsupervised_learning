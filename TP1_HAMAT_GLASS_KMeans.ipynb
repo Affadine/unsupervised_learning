{
 "cells": [
  {
   "cell_type": "code",
   "execution_count": 1,
   "metadata": {},
   "outputs": [],
   "source": [
    "import numpy as np\n",
    "np.set_printoptions(threshold=10000,suppress=True)\n",
    "import pandas as pd\n",
    "import warnings\n",
    "import matplotlib.pyplot as plt\n",
    "warnings.filterwarnings('ignore')\n",
    "\n"
   ]
  },
  {
   "cell_type": "code",
   "execution_count": 2,
   "metadata": {},
   "outputs": [
    {
     "name": "stdout",
     "output_type": "stream",
     "text": [
      "labels ['ajac' 'ange' 'ango' 'besa' 'biar' 'bord' 'bres' 'cler' 'dijo' 'embr'\n",
      " 'gren' 'lill' 'limo' 'lyon' 'mars' 'mont' 'nanc' 'nant' 'nice' 'nime'\n",
      " 'orle' 'pari' 'perp' 'reim' 'renn' 'roue' 'stqu' 'stra' 'toul' 'tlse'\n",
      " 'tour' 'vich']\n"
     ]
    }
   ],
   "source": [
    "data = pd.read_csv('./villes.csv', sep=';')\n",
    "X = data.iloc[:, 1:].values\n",
    "labels = data.iloc[:, 0].values\n",
    "print(\"labels\", labels)\n",
    "\n",
    "from sklearn.preprocessing import StandardScaler\n",
    "from sklearn.decomposition import PCA\n",
    "\n",
    "SC = StandardScaler()\n",
    "SC.fit(X)\n",
    "Xnorm = SC.transform(X)\n",
    "\n",
    "\n",
    "pca=PCA(n_components =12)\n",
    "#print(\"pca\",pca)\n",
    "pca.fit(Xnorm)\n",
    "\n",
    "X_pca = pca.transform(Xnorm)\n",
    "\n",
    "\n",
    "\n"
   ]
  },
  {
   "cell_type": "code",
   "execution_count": 3,
   "metadata": {
    "scrolled": true
   },
   "outputs": [
    {
     "data": {
      "text/plain": [
       "'\\n\\nprint(\"clustering\", clustering, \"map colors\", mcolors.ListedColormap(colors))\\n\\nplt.scatter(X_pca[:, 0], X_pca[:, 1], c= clustering, cmap= mcolors.ListedColormap(colors))\\nfor label, x, y in zip(labels, X_pca[:, 0], X_pca[:, 1]):\\n    plt.annotate(label, xy=(x, y), xytext=(-0.2, 0.2), textcoords=\\'offset points\\')\\nplt.show()\\n\\n'"
      ]
     },
     "execution_count": 3,
     "metadata": {},
     "output_type": "execute_result"
    },
    {
     "data": {
      "image/png": "[encoded data removed]",
      "text/plain": [
       "<Figure size 432x288 with 1 Axes>"
      ]
     },
     "metadata": {
      "needs_background": "light"
     },
     "output_type": "display_data"
    }
   ],
   "source": [
    "\n",
    "from sklearn.cluster import KMeans\n",
    "from sklearn.cluster import AgglomerativeClustering\n",
    "import matplotlib.colors as mcolors\n",
    "\n",
    "clustering = KMeans(n_clusters=3, random_state=0).fit(X_pca)\n",
    "y_kmeans = clustering.predict(X_pca)\n",
    "n_clusters = 3\n",
    "colors = ['red','yellow','blue','pink']\n",
    "\n",
    "\n",
    "plt.scatter(X_pca[:, 0], X_pca[:, 1], c=y_kmeans, cmap= mcolors.ListedColormap(colors))\n",
    "\n",
    "centers = clustering.cluster_centers_\n",
    "plt.scatter(centers[:, 0], centers[:, 1], c='black', cmap= mcolors.ListedColormap(colors), alpha=0.5);\n",
    "\n",
    "\n",
    "\n",
    "\"\"\"\n",
    "\n",
    "print(\"clustering\", clustering, \"map colors\", mcolors.ListedColormap(colors))\n",
    "\n",
    "plt.scatter(X_pca[:, 0], X_pca[:, 1], c= clustering, cmap= mcolors.ListedColormap(colors))\n",
    "for label, x, y in zip(labels, X_pca[:, 0], X_pca[:, 1]):\n",
    "    plt.annotate(label, xy=(x, y), xytext=(-0.2, 0.2), textcoords='offset points')\n",
    "plt.show()\n",
    "\n",
    "\"\"\"\n",
    "\n"
   ]
  },
  {
   "cell_type": "code",
   "execution_count": null,
   "metadata": {},
   "outputs": [],
   "source": [
    "\n"
   ]
  },
  {
   "cell_type": "code",
   "execution_count": 4,
   "metadata": {},
   "outputs": [],
   "source": [
    "#clustering = AgglomerativeClustering().fit(X)\n",
    "#ward.fit(X)"
   ]
  }
 ],
 "metadata": {
  "kernelspec": {
   "display_name": "Python 3",
   "language": "python",
   "name": "python3"
  },
  "language_info": {
   "codemirror_mode": {
    "name": "ipython",
    "version": 3
   },
   "file_extension": ".py",
   "mimetype": "text/x-python",
   "name": "python",
   "nbconvert_exporter": "python",
   "pygments_lexer": "ipython3",
   "version": "3.8.5"
  }
 },
 "nbformat": 4,
 "nbformat_minor": 4
}
