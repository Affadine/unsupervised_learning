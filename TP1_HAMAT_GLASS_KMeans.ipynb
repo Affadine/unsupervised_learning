{
 "cells": [
  {
   "cell_type": "code",
   "execution_count": 1,
   "metadata": {},
   "outputs": [],
   "source": [
    "import numpy as np\n",
    "np.set_printoptions(threshold=10000,suppress=True)\n",
    "import pandas as pd\n",
    "import warnings\n",
    "import matplotlib\n",
    "import matplotlib.pyplot as plt\n",
    "warnings.filterwarnings('ignore')\n",
    "\n"
   ]
  },
  {
   "cell_type": "code",
   "execution_count": 2,
   "metadata": {},
   "outputs": [],
   "source": [
    "data = pd.read_csv('./villes.csv', sep=';')\n",
    "X = data.iloc[:, 1:].values\n",
    "\n",
    "from sklearn.preprocessing import StandardScaler\n",
    "from sklearn.decomposition import PCA\n",
    "\n",
    "SC = StandardScaler()\n",
    "SC.fit(X)\n",
    "Xnorm = SC.transform(X)\n",
    "\n",
    "\n",
    "pca=PCA(n_components =12)\n",
    "pca.fit(Xnorm)\n",
    "\n",
    "X_pca = pca.transform(Xnorm)"
   ]
  },
  {
   "cell_type": "code",
   "execution_count": 3,
   "metadata": {
    "scrolled": true
   },
   "outputs": [
    {
     "data": {
      "image/png": "[encoded data removed]",
      "text/plain": [
       "<Figure size 432x288 with 1 Axes>"
      ]
     },
     "metadata": {
      "needs_background": "light"
     },
     "output_type": "display_data"
    }
   ],
   "source": [
    "from sklearn.cluster import KMeans\n",
    "from sklearn.cluster import AgglomerativeClustering\n",
    "import matplotlib.colors as mcolors\n",
    "\n",
    "n_clusters = 3\n",
    "\n",
    "clustering = KMeans(n_clusters, random_state=0).fit(Xnorm)\n",
    "y_kmeans = clustering.predict(Xnorm)\n",
    "colors = ['red','yellow','blue','pink']\n",
    "labels = clustering.labels_\n",
    "\n",
    "plt.scatter(X_pca[:, 0], X_pca[:, 1], c= y_kmeans, cmap=matplotlib.colors.ListedColormap(colors))\n",
    "for label, x, y in zip(labels, X_pca[:, 0], X_pca[:, 1]):\n",
    "    plt.annotate(label, xy=(x, y), xytext=(-0.2, 0.2), textcoords='offset points')\n",
    "plt.show()"
   ]
  },
  {
   "cell_type": "code",
   "execution_count": 4,
   "metadata": {},
   "outputs": [],
   "source": [
    "#clustering = AgglomerativeClustering().fit(X)\n",
    "#ward.fit(X)"
   ]
  }
 ],
 "metadata": {
  "kernelspec": {
   "display_name": "Python 3",
   "language": "python",
   "name": "python3"
  },
  "language_info": {
   "codemirror_mode": {
    "name": "ipython",
    "version": 3
   },
   "file_extension": ".py",
   "mimetype": "text/x-python",
   "name": "python",
   "nbconvert_exporter": "python",
   "pygments_lexer": "ipython3",
   "version": "3.8.5"
  }
 },
 "nbformat": 4,
 "nbformat_minor": 4
}
